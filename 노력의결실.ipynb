{
 "cells": [
  {
   "cell_type": "code",
   "execution_count": 68,
   "metadata": {},
   "outputs": [],
   "source": [
    "class ProgBar():\n",
    "    def __init__(self,step=100):\n",
    "        self.step = int(step/20)\n",
    "        self.count = 1\n",
    "        self.progress = 0\n",
    "    \n",
    "    def update(self):\n",
    "        if self.count % self.step == 0:\n",
    "            self.progress += 1\n",
    "            print('\\r[%s%s]'%('#'*self.progress,''*(20-self.progress)),end='')\n",
    "        self.count += 1"
   ]
  },
  {
   "cell_type": "code",
   "execution_count": 299,
   "metadata": {},
   "outputs": [],
   "source": [
    "import pandas as pd\n",
    "import os\n",
    "import numpy as np\n",
    "from konlpy.tag import Okt  \n",
    "okt=Okt() "
   ]
  },
  {
   "cell_type": "code",
   "execution_count": 159,
   "metadata": {},
   "outputs": [],
   "source": [
    "from konlpy.tag import Okt  \n",
    "okt=Okt() "
   ]
  },
  {
   "cell_type": "code",
   "execution_count": 6,
   "metadata": {},
   "outputs": [],
   "source": [
    "import re"
   ]
  },
  {
   "cell_type": "code",
   "execution_count": 114,
   "metadata": {},
   "outputs": [],
   "source": [
    "import pandas as pd"
   ]
  },
  {
   "cell_type": "code",
   "execution_count": 2,
   "metadata": {},
   "outputs": [],
   "source": [
    "# 숫자를 입력받아서 한글로 출력하는 함수\n",
    "# 1~999\n",
    "def readNumber(n):\n",
    "    n = int(n)\n",
    "    units = [''] + list('십백천')\n",
    "    nums = '일이삼사오육칠팔구'\n",
    "    result = []\n",
    "    i = 0\n",
    "    while n > 0:\n",
    "        n, r = divmod(n, 10)\n",
    "        if r > 0:\n",
    "            result.append(nums[r-1] + units[i])\n",
    "        i += 1\n",
    "    return ''.join(result[::-1])"
   ]
  },
  {
   "cell_type": "code",
   "execution_count": 3,
   "metadata": {},
   "outputs": [],
   "source": [
    "def readNumber2(n):\n",
    "    \"\"\"1억미만의 숫자를 읽는 함수\"\"\"\n",
    "    n = int(n)\n",
    "    a, b = [readNumber(x) for x in divmod(n, 10000)]\n",
    "    if a:\n",
    "        return a + \"만\" +  b\n",
    "    return b"
   ]
  },
  {
   "cell_type": "code",
   "execution_count": 39,
   "metadata": {},
   "outputs": [],
   "source": [
    "def digit(a):\n",
    "    leng = len(re.findall('\\d+',a))\n",
    "    for i in range(0,leng):\n",
    "        try:\n",
    "            m = re.search(\"\\d+\",a)\n",
    "            mo = m.group()\n",
    "            a = re.sub(mo,readNumber2(mo),a)\n",
    "        except AttributeError:\n",
    "            return a\n",
    "    return a"
   ]
  },
  {
   "cell_type": "code",
   "execution_count": 40,
   "metadata": {
    "scrolled": true
   },
   "outputs": [
    {
     "data": {
      "text/plain": [
       "'이십사나는오십이 내가이십칠 가장 이십구만팔천칠백일십칠 잘삼백오십일'"
      ]
     },
     "execution_count": 40,
     "metadata": {},
     "output_type": "execute_result"
    }
   ],
   "source": [
    "digit(\"24나는52 내가27 가장 298717 잘351\")"
   ]
  },
  {
   "cell_type": "code",
   "execution_count": 14,
   "metadata": {},
   "outputs": [],
   "source": [
    "a = \"24나는52 내가27 가장 298717 잘351\""
   ]
  },
  {
   "cell_type": "code",
   "execution_count": 16,
   "metadata": {},
   "outputs": [
    {
     "data": {
      "text/plain": [
       "5"
      ]
     },
     "execution_count": 16,
     "metadata": {},
     "output_type": "execute_result"
    }
   ],
   "source": [
    "len(re.findall('\\d+',a))"
   ]
  },
  {
   "cell_type": "code",
   "execution_count": 42,
   "metadata": {},
   "outputs": [
    {
     "data": {
      "text/plain": [
       "'이천일십구년 육월 말 페이스북이 주도하는 리브라 어소시에이션Lia Association 출범과 함께 암호화폐계 대장주라 할 수 있는 비트코인BTC 시세가 급등했다 외국에서 일BTC 가격이 일만삼천달러를 돌파했고 국내에서도 거래가가 일육만원을 넘어섰다 미국 월가 투자 전문가인 톰 리는 연말까지 일BTC가 사만달러를 넘어설 수 있다고 전망하기도 했다 이렇게 가격이 높아진 요인은 미중 무역분쟁을 시작으로 한일 갈등 홍콩 송환법 반대 집회 등으로 불거진 국제사회의 경제 불안도 있지만 페이스북 리브라가 암호화폐와 블록체인의 실제 활용도를 창출해냈다는 점이 강하게 작용했다 블록체인암호화폐 전문 조사분석업체 체인파트너스는 보고서에서   미션은 수십억 명의 사람이 간편한 세계 화폐와 금융 인프라를 이용할 수 있게 만드는 것이라며   궁극적으로 글로벌 금융 플랫폼이 되어 다양한 금융사업을 전개하고 싶어 하는 것으로 보인다고 분석했다 때마침 카카오는 육월이십칠일 자체 블록체인 클레이튼Klaytn을 공식 출시하고 칠월삼일'"
      ]
     },
     "execution_count": 42,
     "metadata": {},
     "output_type": "execute_result"
    }
   ],
   "source": [
    "digit(\"2019년 6월 말 페이스북이 주도하는 리브라 어소시에이션Lia Association 출범과 함께 암호화폐계 대장주라 할 수 있는 비트코인BTC 시세가 급등했다 외국에서 1BTC 가격이 1만3천달러를 돌파했고 국내에서도 거래가가 1600만원을 넘어섰다 미국 월가 투자 전문가인 톰 리는 연말까지 1BTC가 4만달러를 넘어설 수 있다고 전망하기도 했다 이렇게 가격이 높아진 요인은 미중 무역분쟁을 시작으로 한일 갈등 홍콩 송환법 반대 집회 등으로 불거진 국제사회의 경제 불안도 있지만 페이스북 리브라가 암호화폐와 블록체인의 실제 활용도를 창출해냈다는 점이 강하게 작용했다 블록체인암호화폐 전문 조사분석업체 체인파트너스는 보고서에서   미션은 수십억 명의 사람이 간편한 세계 화폐와 금융 인프라를 이용할 수 있게 만드는 것이라며   궁극적으로 글로벌 금융 플랫폼이 되어 다양한 금융사업을 전개하고 싶어 하는 것으로 보인다고 분석했다 때마침 카카오는 6월27일 자체 블록체인 클레이튼Klaytn을 공식 출시하고 7월3일\")"
   ]
  },
  {
   "cell_type": "code",
   "execution_count": 43,
   "metadata": {},
   "outputs": [],
   "source": [
    "import os\n",
    "def createfolder(directory):\n",
    "    try:\n",
    "        if not os.path.exists(directory):\n",
    "            os.makedirs(directory)\n",
    "    except OSError:\n",
    "        print(\"Error: Creating directory.\"+driectory)"
   ]
  },
  {
   "cell_type": "code",
   "execution_count": 54,
   "metadata": {},
   "outputs": [],
   "source": [
    "createfolder(\"C:/Users/uoykc/Desktop/직박구려\")"
   ]
  },
  {
   "cell_type": "code",
   "execution_count": 56,
   "metadata": {},
   "outputs": [],
   "source": [
    "directory='C:/Users/uoykc/Desktop/'\n",
    "word=\"단어다\"\n",
    "code=\"단어임?\"\n",
    "if not os.path.exists(directory):\n",
    "    os.makedirs(directory)\n",
    "    dire = directory+word+'.txt'\n",
    "    f = open(dire,'a',encoding='utf-8') \n",
    "    f.write(code+\"\\n\")\n",
    "    f.close()\n"
   ]
  },
  {
   "cell_type": "code",
   "execution_count": 50,
   "metadata": {},
   "outputs": [],
   "source": [
    "maketxt(directory='C:/Users/uoykc/Desktop',word=\"단어다\",code=\"단어임?\")"
   ]
  },
  {
   "cell_type": "code",
   "execution_count": null,
   "metadata": {},
   "outputs": [],
   "source": [
    "#join이라는 함수는 리스트를 문자열로 반환시켜준다."
   ]
  },
  {
   "cell_type": "code",
   "execution_count": 51,
   "metadata": {},
   "outputs": [
    {
     "ename": "NameError",
     "evalue": "name 'dire' is not defined",
     "output_type": "error",
     "traceback": [
      "\u001b[1;31m---------------------------------------------------------------------------\u001b[0m",
      "\u001b[1;31mNameError\u001b[0m                                 Traceback (most recent call last)",
      "\u001b[1;32m<ipython-input-51-1ddc77109d63>\u001b[0m in \u001b[0;36m<module>\u001b[1;34m\u001b[0m\n\u001b[1;32m----> 1\u001b[1;33m \u001b[0mdire\u001b[0m\u001b[1;33m\u001b[0m\u001b[1;33m\u001b[0m\u001b[0m\n\u001b[0m",
      "\u001b[1;31mNameError\u001b[0m: name 'dire' is not defined"
     ]
    }
   ],
   "source": [
    "os.makedirs(directory)"
   ]
  },
  {
   "cell_type": "code",
   "execution_count": 13,
   "metadata": {},
   "outputs": [],
   "source": [
    "import os\n",
    "import time\n",
    "directory='C:/Users/uoykc/Desktop/'\n",
    "word=\"1\"\n",
    "wd = \"/2.txt\"\n",
    "code=\"단어임?\"\n",
    "dire = directory+word\n",
    "os.makedirs(dire)\n",
    "f = open(dire+wd,'w',encoding='utf-8') \n",
    "f.write(code+\"\\n\")\n",
    "f.close()\n",
    "\n",
    "try:\n",
    "    if not(os.path.isdir({directory})):\n",
    "        os.makedirs(os.path.join({directory}))\n",
    "        f = open(directory+word+'.txt','w',encoding='utf-8') \n",
    "        f.write(code+\"\\n\")\n",
    "        f.close()\n",
    "except OSError as e:\n",
    "    if e.errno != errno.EEXIST:\n",
    "        print(\"Failed to create directory!!!!!\")\n"
   ]
  },
  {
   "cell_type": "code",
   "execution_count": 30,
   "metadata": {},
   "outputs": [],
   "source": [
    "import os\n",
    "import time\n",
    "def createtxt(directory,word,code):\n",
    "    try:\n",
    "        os.makedirs(directory)\n",
    "        path = directory+\"/\"+word+\".txt\"\n",
    "    except OSError as e:\n",
    "        print(\"Failed to create directory!!!!!\")"
   ]
  },
  {
   "cell_type": "code",
   "execution_count": 31,
   "metadata": {},
   "outputs": [
    {
     "name": "stdout",
     "output_type": "stream",
     "text": [
      "Failed to create directory!!!!!\n"
     ]
    }
   ],
   "source": [
    "createtxt(\"C:/Users/uoykc/Desktop/efa\",\"rkwkd\",\"잉 속장ㅈㅅ\")"
   ]
  },
  {
   "cell_type": "code",
   "execution_count": 28,
   "metadata": {},
   "outputs": [],
   "source": [
    "def qfqfq():\n",
    "    a =11\n",
    "    return a"
   ]
  },
  {
   "cell_type": "code",
   "execution_count": 29,
   "metadata": {},
   "outputs": [
    {
     "ename": "NameError",
     "evalue": "name 'a' is not defined",
     "output_type": "error",
     "traceback": [
      "\u001b[1;31m---------------------------------------------------------------------------\u001b[0m",
      "\u001b[1;31mNameError\u001b[0m                                 Traceback (most recent call last)",
      "\u001b[1;32m<ipython-input-29-3f786850e387>\u001b[0m in \u001b[0;36m<module>\u001b[1;34m\u001b[0m\n\u001b[1;32m----> 1\u001b[1;33m \u001b[0ma\u001b[0m\u001b[1;33m\u001b[0m\u001b[1;33m\u001b[0m\u001b[0m\n\u001b[0m",
      "\u001b[1;31mNameError\u001b[0m: name 'a' is not defined"
     ]
    }
   ],
   "source": [
    "a"
   ]
  },
  {
   "cell_type": "code",
   "execution_count": 27,
   "metadata": {},
   "outputs": [],
   "source": [
    "qfqfq()"
   ]
  }
 ],
 "metadata": {
  "kernelspec": {
   "display_name": "Python 3",
   "language": "python",
   "name": "python3"
  },
  "language_info": {
   "codemirror_mode": {
    "name": "ipython",
    "version": 3
   },
   "file_extension": ".py",
   "mimetype": "text/x-python",
   "name": "python",
   "nbconvert_exporter": "python",
   "pygments_lexer": "ipython3",
   "version": "3.6.8"
  }
 },
 "nbformat": 4,
 "nbformat_minor": 2
}
